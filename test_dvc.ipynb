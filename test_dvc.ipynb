{
 "cells": [
  {
   "cell_type": "code",
   "execution_count": 1,
   "metadata": {},
   "outputs": [],
   "source": [
    "import numpy as np\n",
    "import pandas as pd"
   ]
  },
  {
   "cell_type": "code",
   "execution_count": 2,
   "metadata": {},
   "outputs": [
    {
     "data": {
      "text/html": [
       "<div>\n",
       "<style scoped>\n",
       "    .dataframe tbody tr th:only-of-type {\n",
       "        vertical-align: middle;\n",
       "    }\n",
       "\n",
       "    .dataframe tbody tr th {\n",
       "        vertical-align: top;\n",
       "    }\n",
       "\n",
       "    .dataframe thead th {\n",
       "        text-align: right;\n",
       "    }\n",
       "</style>\n",
       "<table border=\"1\" class=\"dataframe\">\n",
       "  <thead>\n",
       "    <tr style=\"text-align: right;\">\n",
       "      <th></th>\n",
       "      <th>A</th>\n",
       "      <th>B</th>\n",
       "      <th>C</th>\n",
       "      <th>D</th>\n",
       "      <th>E</th>\n",
       "    </tr>\n",
       "  </thead>\n",
       "  <tbody>\n",
       "    <tr>\n",
       "      <th>0</th>\n",
       "      <td>0.907080</td>\n",
       "      <td>0.978871</td>\n",
       "      <td>0.263669</td>\n",
       "      <td>0.170317</td>\n",
       "      <td>0.016431</td>\n",
       "    </tr>\n",
       "    <tr>\n",
       "      <th>1</th>\n",
       "      <td>0.761230</td>\n",
       "      <td>0.221936</td>\n",
       "      <td>0.819334</td>\n",
       "      <td>0.132029</td>\n",
       "      <td>0.017711</td>\n",
       "    </tr>\n",
       "    <tr>\n",
       "      <th>2</th>\n",
       "      <td>0.643576</td>\n",
       "      <td>0.508362</td>\n",
       "      <td>0.618873</td>\n",
       "      <td>0.032901</td>\n",
       "      <td>0.201860</td>\n",
       "    </tr>\n",
       "    <tr>\n",
       "      <th>3</th>\n",
       "      <td>0.420012</td>\n",
       "      <td>0.882911</td>\n",
       "      <td>0.316054</td>\n",
       "      <td>0.242416</td>\n",
       "      <td>0.634281</td>\n",
       "    </tr>\n",
       "    <tr>\n",
       "      <th>4</th>\n",
       "      <td>0.253914</td>\n",
       "      <td>0.567270</td>\n",
       "      <td>0.701201</td>\n",
       "      <td>0.730637</td>\n",
       "      <td>0.947364</td>\n",
       "    </tr>\n",
       "  </tbody>\n",
       "</table>\n",
       "</div>"
      ],
      "text/plain": [
       "          A         B         C         D         E\n",
       "0  0.907080  0.978871  0.263669  0.170317  0.016431\n",
       "1  0.761230  0.221936  0.819334  0.132029  0.017711\n",
       "2  0.643576  0.508362  0.618873  0.032901  0.201860\n",
       "3  0.420012  0.882911  0.316054  0.242416  0.634281\n",
       "4  0.253914  0.567270  0.701201  0.730637  0.947364"
      ]
     },
     "execution_count": 2,
     "metadata": {},
     "output_type": "execute_result"
    }
   ],
   "source": [
    "dataset = np.random.random((1000,5))\n",
    "df_dataset = pd.DataFrame(dataset,columns=['A','B','C','D','E'])\n",
    "df_dataset.head()"
   ]
  },
  {
   "cell_type": "code",
   "execution_count": 3,
   "metadata": {},
   "outputs": [],
   "source": [
    "df_dataset.to_csv('dataset.csv')"
   ]
  },
  {
   "cell_type": "markdown",
   "metadata": {},
   "source": [
    "Luego de crear el dataset debemos añadirlo a los archivos de dvc con `dvc add dataset.csv`  \n",
    "Luego se puede setear el remoto al cuál subiremos los archivos, en mi caso probaré en local, luego actualizaré a patagón, por ahora no tengo acceso.\n",
    "Se hace con `dvc remote add -d myremote <ruta/carpeta>`.  \n",
    "Luego se pushean los cambios al remoto con `dvc push`.  \n",
    "Se añaden los archivos a git (los .dvc) `git add dataset.csv.dvc`\n",
    "Y se pushean los cambios a git `git commit -m \"añadiendo archivo`  \n",
    "`git push origin main`"
   ]
  },
  {
   "cell_type": "markdown",
   "metadata": {},
   "source": [
    "Para traer los archivos es simplemente configurar el remoto de la misma forma que arriba (en caso de que estés trabajando en otra máquina) y hacer `dvc pull`"
   ]
  },
  {
   "cell_type": "markdown",
   "metadata": {},
   "source": []
  }
 ],
 "metadata": {
  "kernelspec": {
   "display_name": "test-fusa",
   "language": "python",
   "name": "python3"
  },
  "language_info": {
   "codemirror_mode": {
    "name": "ipython",
    "version": 3
   },
   "file_extension": ".py",
   "mimetype": "text/x-python",
   "name": "python",
   "nbconvert_exporter": "python",
   "pygments_lexer": "ipython3",
   "version": "3.12.8"
  }
 },
 "nbformat": 4,
 "nbformat_minor": 2
}
