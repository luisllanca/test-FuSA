{
 "cells": [
  {
   "cell_type": "code",
   "execution_count": 1,
   "metadata": {},
   "outputs": [],
   "source": [
    "import numpy as np\n",
    "import pandas as pd"
   ]
  },
  {
   "cell_type": "code",
   "execution_count": null,
   "metadata": {},
   "outputs": [],
   "source": [
    "dataset = np.random.random((1000,5))\n",
    "df_dataset = pd.DataFrame(dataset,columns=['A','B','C','D','E'])\n",
    "df_dataset.head()"
   ]
  },
  {
   "cell_type": "code",
   "execution_count": null,
   "metadata": {},
   "outputs": [],
   "source": [
    "df_dataset.to_csv('dataset.csv')"
   ]
  },
  {
   "cell_type": "markdown",
   "metadata": {},
   "source": [
    "Luego de crear el dataset debemos añadirlo a los archivos de dvc con `dvc add dataset.csv`  \n",
    "Luego se puede setear el remoto al cuál subiremos los archivos, en mi caso probaré en local, luego actualizaré a patagón, por ahora no tengo acceso.\n",
    "Se hace con `dvc remote add -d myremote <ruta/carpeta>`.  \n",
    "Luego se pushean los cambios al remoto con `dvc push`.  \n",
    "Se añaden los archivos a git (los .dvc) `git add dataset.csv.dvc`\n",
    "Y se pushean los cambios a git `git commit -m \"añadiendo archivo`  \n",
    "`git push origin main`"
   ]
  },
  {
   "cell_type": "markdown",
   "metadata": {},
   "source": [
    "Para traer los archivos es simplemente configurar el remoto de la misma forma que arriba (en caso de que estés trabajando en otra máquina) y hacer `dvc pull`"
   ]
  }
 ],
 "metadata": {
  "kernelspec": {
   "display_name": "test-fusa",
   "language": "python",
   "name": "python3"
  },
  "language_info": {
   "codemirror_mode": {
    "name": "ipython",
    "version": 3
   },
   "file_extension": ".py",
   "mimetype": "text/x-python",
   "name": "python",
   "nbconvert_exporter": "python",
   "pygments_lexer": "ipython3",
   "version": "3.12.8"
  }
 },
 "nbformat": 4,
 "nbformat_minor": 2
}
