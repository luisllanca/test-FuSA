{
 "cells": [
  {
   "cell_type": "code",
   "execution_count": 2,
   "metadata": {},
   "outputs": [
    {
     "name": "stdout",
     "output_type": "stream",
     "text": [
      "Backends disponibles: ['ffmpeg']\n"
     ]
    }
   ],
   "source": [
    "import torchaudio\n",
    "print(f\"Backends disponibles: {torchaudio.list_audio_backends()}\")\n"
   ]
  },
  {
   "cell_type": "code",
   "execution_count": 5,
   "metadata": {},
   "outputs": [
    {
     "name": "stdout",
     "output_type": "stream",
     "text": [
      "Waveform shape: torch.Size([1, 50800])\n",
      "Sample rate: 8000\n",
      "Label: [0, 0, 0, 0, 1, 1, 1, 1]\n"
     ]
    }
   ],
   "source": [
    "dataset = torchaudio.datasets.YESNO(root=\"../data_audio\", download=True)\n",
    "\n",
    "waveform, sample_rate, label = dataset[0]\n",
    "print(f\"Waveform shape: {waveform.shape}\")\n",
    "print(f\"Sample rate: {sample_rate}\")\n",
    "print(f\"Label: {label}\")"
   ]
  },
  {
   "cell_type": "markdown",
   "metadata": {},
   "source": [
    "# Ejercicio:  \n",
    "Suba a dvc el dataset descargado por torch"
   ]
  },
  {
   "cell_type": "markdown",
   "metadata": {},
   "source": [
    "### Para añadir el pre procesamiento de datos al pipeline de dvc se debe realizar lo siguiente  \n",
    "```\n",
    "dvc stage add -n preprocess -d preprocess.py -d ../data_audio/waves_yesno -o yesno_dataset.pt python preprocess.py --root_path ../data_audio/waves_yesno --output_path data/yesno_tensor.pt --sample_rate 8000\n",
    "```"
   ]
  },
  {
   "cell_type": "markdown",
   "metadata": {},
   "source": []
  }
 ],
 "metadata": {
  "kernelspec": {
   "display_name": "test-torch-fusa",
   "language": "python",
   "name": "python3"
  },
  "language_info": {
   "codemirror_mode": {
    "name": "ipython",
    "version": 3
   },
   "file_extension": ".py",
   "mimetype": "text/x-python",
   "name": "python",
   "nbconvert_exporter": "python",
   "pygments_lexer": "ipython3",
   "version": "3.11.11"
  }
 },
 "nbformat": 4,
 "nbformat_minor": 2
}
